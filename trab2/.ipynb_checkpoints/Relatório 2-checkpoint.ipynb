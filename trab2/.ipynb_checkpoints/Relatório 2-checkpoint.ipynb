{
 "cells": [
  {
   "cell_type": "code",
   "execution_count": 1,
   "metadata": {},
   "outputs": [
    {
     "data": {
      "text/html": [
       "<style>\n",
       "    .wrapper {\n",
       "        display: flex;\n",
       "        justify-content: space-around;\n",
       "        text-align: center;\n",
       "    }\n",
       "</style>\n"
      ],
      "text/plain": [
       "<IPython.core.display.HTML object>"
      ]
     },
     "metadata": {},
     "output_type": "display_data"
    }
   ],
   "source": [
    "%%html\n",
    "<style>\n",
    "    .wrapper {\n",
    "        display: flex;\n",
    "        justify-content: space-around;\n",
    "        text-align: center;\n",
    "    }\n",
    "</style>"
   ]
  },
  {
   "cell_type": "markdown",
   "metadata": {},
   "source": [
    "# Trabalho 2\n",
    "MC920\n",
    "João Vitor Araki Gonçalves (176353)\n",
    "\n",
    "## Introdução\n",
    "O objetivo desse trabalho é analisar o efeito de diferentes processos Half-toning (dithering) incluindo duas máscaras de pontilhado ordenado (uma 3x3, uma 4x4 de Bayer e uma 2x2 de Bayer), e o método de pontilhado por difusão de erro de Floyd-Steinberg, aplicando da esquerda para a direita e em zig zag.\n",
    "Serão analisados seus efeitos em diferentes imagens para melhor se perceber as diferenças entre os métodos.\n",
    "\n",
    "## O Programa\n",
    "O programa foi implementado em python 3.7.3 utilizando as seguintes bibliotecas:\n",
    "* numpy: Calculos vetorizados\n",
    "* opencv2: Leitura e escrita da imagens.\n",
    "\n",
    "### Execução\n",
    "\n",
    "Primeiramente instalar as dependencias do projeto:\n",
    "\n",
    "`pip install -r requirements.txt`\n",
    "\n",
    "O programa pode ser executado pela linha de comando:\n",
    "\n",
    "`python main.py {input_file} {output_prefix}`\n",
    "\n",
    "E.G.\n",
    "\n",
    "`python main.py baboon.pgm baboon`\n",
    "\n",
    "O programa irá usar a imagem pré definida no argumento `input_file` para aplicar os diferentes métodos de pontilhado propostos.\n",
    "No caso:\n",
    "1. Máscara 3x3\n",
    "\n",
    "| []() | []() | []() |\n",
    "|---|---|---|\n",
    "| 6 | 8 | 4 |\n",
    "| 1 | 0 | 3 |\n",
    "| 5 | 2 | 7 |\n",
    "\n",
    "\n",
    "2. Máscara de Bayer 4x4\n",
    "\n",
    "| []()  | []() | []()  | []() |\n",
    "|----|----|----|----|\n",
    "| 0  | 12 | 3  | 15 |\n",
    "| 8  | 4  | 11 | 7  |\n",
    "| 2  | 14 | 1  | 13 |\n",
    "| 10 | 6  | 9  | 15 |\n",
    "\n",
    "3. Máscara de Bayer 2x2\n",
    "\n",
    "| []() | []() |\n",
    "|---|---|\n",
    "| 0 | 2 |\n",
    "| 3 | 1 |\n",
    "\n",
    "\n",
    "4. Floyd-Steinberg\n",
    "\n",
    "| []() | []() | []() |\n",
    "|------|--------|------|\n",
    "|  []() |  []()   |  []()|\n",
    "|   []()| f(x,y) | 7/16 |\n",
    "| 3/16 | 5/16   | 1/16 |\n",
    "\n",
    "Então para cada método o programa irá fazer um output dos arquivos seguindo o argumento `output_prefix`\n",
    "\n",
    "**Bayer 4x4** `{output_prefix}_bayer.pbm`\n",
    "\n",
    "**Pontilhado ordenado 3x3** `{output_prefix}_3x3.pbm`\n",
    "\n",
    "**Bayer 2x2** `{output_prefix}_2x2.pbm`\n",
    "\n",
    "**Floyd da esquerda para a direita** `{output_prefix}_floyd.pbm`\n",
    "\n",
    "**Floyd em zig zag** `{output_prefix}_floyd_alternating.pbm`\n",
    "\n",
    "\n",
    "\n",
    "## Processo\n",
    "\n",
    "### Leitura da Imagem\n",
    "\n",
    "A imagem é lida pelo método `cv2.imread(filename, 0)` que lê a imagem e à guarda uma matriz numpy com valores de 0 à 255 para os níveis de cinza.\n"
   ]
  },
  {
   "cell_type": "markdown",
   "metadata": {},
   "source": [
    "### Pontilhado ordenado\n",
    "\n",
    "Primeiro normalizamos os valores da imagem entre os valores 0 e 9 utilizando a função\n",
    "$$ (image-f_{min}) * \\frac{g_{max}-g_{min}}{f_{max}-f_{min}} - g_{min} $$\n",
    "\n",
    "Então utilizamos os valores da matriz mascara como limiares, se o valor do pixel for maior que o valor na matriz, ele é substituido por 9 (branco), se não é substituido por 0 (preto). O tamanho da imagem resultante é a ordem do tamanho da mascara vezes o tamanho da imagem, ou seja, a imagem resultante será maior.\n",
    "\n",
    "Vamos utilizar padrões de tamnhos 2x2, 3x3 e 4x4, é esperado que para as mascaras de tamanho maior, o resultado seja melhor (mais próxima da imagem original e menos aterfatos).\n",
    "\n",
    "### Floyd-Steinberg (pontilhado com difusão de erro)\n",
    "\n",
    "Para esse método, percorremos cada pixel da imagem, se o valor for maior que 128, substituímos ele por 255 e se for menor por 0. Para cada pixel salvamos o erro (valor original - valor novo) e distribuímos de acordo com a máscara defina anteriormente. \n",
    "Esse método é aplicado tanto da esquerda para a direita, linha por linha e em zig zag, é esperado que o resultado de zig zag produza um resultado melhor (com menos artefatos).\n",
    "\n",
    "## Resultados e discussão\n",
    "\n",
    "Para os casos das imagens resultantes dos métodos de pontilhado ordenado, se observou um resultado melhor para a máscara 4x4, como esperado, as outras imagens observou-se mais artefatos e um contraste pior no caso do padrão 2x2, apesar de que as cores da imagem 3x3 ficaram mais próximas da original, porém com artefatos mais evidentes (padrões quadriculados).\n",
    "\n",
    "\n"
   ]
  },
  {
   "cell_type": "markdown",
   "metadata": {},
   "source": [
    "<div class=\"wrapper\">\n",
    "<div>\n",
    "<b>Imagem com padrão 2x2</b>\n",
    "<img src=\"files/baboon_2x2.jpg\" width=200 >\n",
    "</div>\n",
    "<div>\n",
    "<b>Imagem com padrão 3x3</b>\n",
    "<img src=\"files/baboon_3x3.jpg\" width=200 >\n",
    "</div>\n",
    "<div>\n",
    "<b>Imagem com padrão 4x4</b>\n",
    "<img src=\"files/baboon_bayer.jpg\" width=200 >\n",
    "</div>\n",
    "<div>\n",
    "<b>Imagem original</b>\n",
    "<img src=\"files/baboon.jpg\" width=200 >\n",
    "</div>\n",
    "</div>"
   ]
  },
  {
   "cell_type": "markdown",
   "metadata": {},
   "source": [
    "\n",
    "\n",
    "Uma desvantagem clara dos padrões maiores é a imagem de output maior e também a maior complexidade na execução, pois a complixidade do algoritmo é\n",
    "\n",
    "$$ O(I^2 P^2) $$\n",
    "\n",
    "Onde I é a dimensão da imagem e P é a dimensão do padrão.\n",
    "\n",
    "\n",
    "Nos casos dos resultados com pontilhado com difusão de erro, as imagens resultantes tem a mesma dimensão que a original, e outra clara vantagem é a complexidade do algorítmo, que é apenas a dimensão da imagem (número de pixels), já que é feito o calculo uma vez para cada pixel, isso é possível de observar em tempo de execução de cada método, onde o de pontilhado ordenado demora considerávelmente mais, principalmente para o padrão 4x4. Esse método é uma boa alternativa, executando relativamente rápido e produzindo resultados bons\n",
    "\n",
    "No caso de imagens complexas como o baboon, não é possível observer grandes diferenças entre aplicar o método da esquerda para a direita ou em zig zag:\n",
    "Apenas alguns artefatos, como linhas verticais no cado do esquerda para a direita e linhas horizontais no caso do zig zag.\n",
    "\n",
    "Comparativamente com o método do pontilhado ordenado, é possível observar mais artefatos que os padrões 3x3 e 4x4, mas bons resultados em relação a detalhes e contraste da imagen resultante, principalmente considerando que a imagem final tem mesmo tamanho que a original.\n",
    "\n"
   ]
  },
  {
   "cell_type": "markdown",
   "metadata": {},
   "source": [
    "<div class=\"wrapper\">\n",
    "<div>\n",
    "<b>Floyd-Steinberg da esquerda para a direita</b>\n",
    "<img src=\"files/baboon_floyd.jpg\" width=200 >\n",
    "</div>\n",
    "<div>\n",
    "<b>Floyd-Steinberg em zig zag</b>\n",
    "<img src=\"files/baboon_floyd_alternating.jpg\" width=200 >\n",
    "</div>\n",
    "</div>"
   ]
  },
  {
   "cell_type": "markdown",
   "metadata": {},
   "source": [
    "\n",
    "É possível observar uma diferença maior nos resultados de aplicar o pontilhado com difusão de erro da esquerda para a direita e em zig zag na imagem sonnet, que possui regiões brancas grandes.\n",
    "Nela as regiões brancas em que foi aplicada o método da esquerda para a direita apresentou linhas horizontais, na zig zag as regiões brancas ficaram limpas. \n",
    "\n"
   ]
  },
  {
   "cell_type": "markdown",
   "metadata": {},
   "source": [
    "<div class=\"wrapper\">\n",
    "<div>\n",
    "<b>Floyd-Steinberg da esquerda para a direita</b>\n",
    "<img src=\"files/sonnet_floyd.jpg\" width=200 >\n",
    "</div>\n",
    "<div>\n",
    "<b>Floyd-Steinberg em zig zag</b>\n",
    "<img src=\"files/sonnet_floyd_alternating.jpg\" width=200 >\n",
    "</div>\n",
    "<div>\n",
    "<b>Imagem original</b>\n",
    "<img src=\"files/sonnet.jpg\" width=200 >\n",
    "</div>\n",
    "</div>\n"
   ]
  },
  {
   "cell_type": "markdown",
   "metadata": {},
   "source": [
    "## Conclusão\n",
    "\n",
    "Pudemos observar a diferença entre os diferentes métodos de pontilhado tanto em questões de resultado quanto em questões de performance. Notou-se melhores resultados para os pontilhados ordenados 3x3 e 4x4, mas uma performance bem pior. Enquanto comparando as ordens de aplicação do pontilhado de difusão de erro, a aplicação em zig zag teve um resultado melhor para regiões brancas ou homogêneas da imagem, quando comparado com a aplicação da esquerda para a direita."
   ]
  }
 ],
 "metadata": {
  "kernelspec": {
   "display_name": "Python 3",
   "language": "python",
   "name": "python3"
  },
  "language_info": {
   "codemirror_mode": {
    "name": "ipython",
    "version": 3
   },
   "file_extension": ".py",
   "mimetype": "text/x-python",
   "name": "python",
   "nbconvert_exporter": "python",
   "pygments_lexer": "ipython3",
   "version": "3.7.3"
  }
 },
 "nbformat": 4,
 "nbformat_minor": 2
}
